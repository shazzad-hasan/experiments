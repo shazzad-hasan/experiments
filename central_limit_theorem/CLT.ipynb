{
  "nbformat": 4,
  "nbformat_minor": 0,
  "metadata": {
    "colab": {
      "provenance": [],
      "authorship_tag": "ABX9TyOvUmgr96kpi2hRrqmCIWf8",
      "include_colab_link": true
    },
    "kernelspec": {
      "name": "python3",
      "display_name": "Python 3"
    },
    "language_info": {
      "name": "python"
    }
  },
  "cells": [
    {
      "cell_type": "markdown",
      "metadata": {
        "id": "view-in-github",
        "colab_type": "text"
      },
      "source": [
        "<a href=\"https://colab.research.google.com/github/shazzad-hasan/experiments/blob/main/central_limit_theorem/CLT.ipynb\" target=\"_parent\"><img src=\"https://colab.research.google.com/assets/colab-badge.svg\" alt=\"Open In Colab\"/></a>"
      ]
    },
    {
      "cell_type": "code",
      "source": [
        "# import required libraries\n",
        "import numpy as np\n",
        "import pandas as pd\n",
        "import random \n",
        "import statistics as stat\n",
        "import seaborn as sns\n",
        "import matplotlib.pyplot as plt\n",
        "\n",
        "# fixing random state for reproducibility\n",
        "np.random.seed(42)\n",
        "sns.set_style('ticks')"
      ],
      "metadata": {
        "id": "vvxnDSG5Oc_8"
      },
      "execution_count": null,
      "outputs": []
    },
    {
      "cell_type": "code",
      "source": [
        "# read a single column of data\n",
        "points = pd.read_csv(\"https://bit.ly/369dqlF\", header=None)\n",
        "\n",
        "# bring in data that does not fit normal distribution at all\n",
        "x_values = [p for p in points[0]]\n",
        "\n",
        "# plot the data in histogram with bin range size of 20\n",
        "sns.displot(x_values, bins=20)"
      ],
      "metadata": {
        "id": "Lp6xWGrbnc8D"
      },
      "execution_count": null,
      "outputs": []
    },
    {
      "cell_type": "code",
      "source": [
        "def sample_mean_calculator(population_array, sample_size, n_samples):\n",
        "  sample_means = []\n",
        "  for i in range(n_samples):\n",
        "    # Randomly sample n_samples groups of sample_size points\n",
        "    sample = np.random.choice(population_array, size=sample_size, replace=False)\n",
        "    # calculate mean\n",
        "    sample_mean = stat.mean(sample)\n",
        "    sample_means.append(sample_mean)\n",
        "\n",
        "  # sample_means = [stat.mean(np.random.choice(x_values, size=sample_size)) for _ in range(n_samples)]\n",
        "\n",
        "  return sample_means"
      ],
      "metadata": {
        "id": "uLSlpcREXmCN"
      },
      "execution_count": null,
      "outputs": []
    },
    {
      "cell_type": "code",
      "source": [
        "sample_means = sample_mean_calculator(x_values, 100, 1000)\n",
        "\n",
        "# Plot the sample means in histogram with bin range size of 20\n",
        "sns.displot(sample_means, bins=20, kde=True)\n",
        "_ = plt.xlim(3.5, 6.5)"
      ],
      "metadata": {
        "id": "bc89sj5-UiSb"
      },
      "execution_count": null,
      "outputs": []
    },
    {
      "cell_type": "code",
      "source": [
        "sample_sizes = [10, 31, 100, 300, 600, 1000]\n",
        "n_samples = [10, 10, 100, 200, 500, 1000]\n",
        "\n",
        "fig, axes = plt.subplots(2, 3, sharex=False, sharey=True, figsize=(12,8))\n",
        "# fig.subplots_adjust(hspace=0.4, wspace=0.4)\n",
        "\n",
        "for i, N in enumerate(sample_sizes):\n",
        "  if i < 3: j = 0\n",
        "  else: j = 1\n",
        "\n",
        "  sample_means = sample_mean_calculator(x_values, N, n_samples[i])\n",
        "\n",
        "  sns.displot(sample_means, bins=20, kde=True, ax = axes[j, i - j*3])"
      ],
      "metadata": {
        "id": "lVF3wcjadQAx"
      },
      "execution_count": null,
      "outputs": []
    },
    {
      "cell_type": "code",
      "source": [],
      "metadata": {
        "id": "CAcgF1QRhIbY"
      },
      "execution_count": null,
      "outputs": []
    }
  ]
}