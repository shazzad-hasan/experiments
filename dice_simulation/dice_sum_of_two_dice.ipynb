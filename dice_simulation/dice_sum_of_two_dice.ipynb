{
  "nbformat": 4,
  "nbformat_minor": 0,
  "metadata": {
    "colab": {
      "provenance": [],
      "authorship_tag": "ABX9TyPgHBnSJQkzrkRAsxlATSO0",
      "include_colab_link": true
    },
    "kernelspec": {
      "name": "python3",
      "display_name": "Python 3"
    },
    "language_info": {
      "name": "python"
    }
  },
  "cells": [
    {
      "cell_type": "markdown",
      "metadata": {
        "id": "view-in-github",
        "colab_type": "text"
      },
      "source": [
        "<a href=\"https://colab.research.google.com/github/shazzad-hasan/experiments/blob/main/dice_simulation/dice_sum_of_two_dice.ipynb\" target=\"_parent\"><img src=\"https://colab.research.google.com/assets/colab-badge.svg\" alt=\"Open In Colab\"/></a>"
      ]
    },
    {
      "cell_type": "code",
      "source": [
        "import numpy as np\n",
        "import matplotlib.pyplot as plt\n",
        "\n",
        "%matplotlib inline"
      ],
      "metadata": {
        "id": "DwQJYWTLKcPs"
      },
      "execution_count": 1,
      "outputs": []
    },
    {
      "cell_type": "code",
      "source": [
        "sample_space = [(i,j) for i in range(1,7) for j in range(1,7)]\n",
        "print(*sample_space, sep=\"\\n\")"
      ],
      "metadata": {
        "colab": {
          "base_uri": "https://localhost:8080/"
        },
        "id": "i4njFxAyE4WE",
        "outputId": "0ba97b4d-32b9-45bf-9ef7-1c0690e0274a"
      },
      "execution_count": 2,
      "outputs": [
        {
          "output_type": "stream",
          "name": "stdout",
          "text": [
            "(1, 1)\n",
            "(1, 2)\n",
            "(1, 3)\n",
            "(1, 4)\n",
            "(1, 5)\n",
            "(1, 6)\n",
            "(2, 1)\n",
            "(2, 2)\n",
            "(2, 3)\n",
            "(2, 4)\n",
            "(2, 5)\n",
            "(2, 6)\n",
            "(3, 1)\n",
            "(3, 2)\n",
            "(3, 3)\n",
            "(3, 4)\n",
            "(3, 5)\n",
            "(3, 6)\n",
            "(4, 1)\n",
            "(4, 2)\n",
            "(4, 3)\n",
            "(4, 4)\n",
            "(4, 5)\n",
            "(4, 6)\n",
            "(5, 1)\n",
            "(5, 2)\n",
            "(5, 3)\n",
            "(5, 4)\n",
            "(5, 5)\n",
            "(5, 6)\n",
            "(6, 1)\n",
            "(6, 2)\n",
            "(6, 3)\n",
            "(6, 4)\n",
            "(6, 5)\n",
            "(6, 6)\n"
          ]
        }
      ]
    },
    {
      "cell_type": "code",
      "source": [
        "# sum of two die rolls\n",
        "T = [i+j for i in range(1,7) for j in range(1,7)]\n",
        "print(T)"
      ],
      "metadata": {
        "colab": {
          "base_uri": "https://localhost:8080/"
        },
        "id": "7SG4Bye7HZAe",
        "outputId": "ce9b25a9-c01f-4fa4-eb63-1bd26177c59d"
      },
      "execution_count": 3,
      "outputs": [
        {
          "output_type": "stream",
          "name": "stdout",
          "text": [
            "[2, 3, 4, 5, 6, 7, 3, 4, 5, 6, 7, 8, 4, 5, 6, 7, 8, 9, 5, 6, 7, 8, 9, 10, 6, 7, 8, 9, 10, 11, 7, 8, 9, 10, 11, 12]\n"
          ]
        }
      ]
    },
    {
      "cell_type": "code",
      "execution_count": 4,
      "metadata": {
        "id": "eTyl_6gGDyCI"
      },
      "outputs": [],
      "source": [
        "def pmf_sum_of_two_dice(t):\n",
        "  if t < 2 or t > 12:\n",
        "    return 0\n",
        "  elif t <= 7:\n",
        "    return (t-1)/36\n",
        "  else:\n",
        "    return (13-t)/36"
      ]
    },
    {
      "cell_type": "code",
      "source": [
        "pmf_of_T = [pmf_sum_of_two_dice(t) for t in T]\n",
        "\n",
        "for pmf in pmf_of_T:\n",
        "  print(\"%.4f\" %pmf)"
      ],
      "metadata": {
        "colab": {
          "base_uri": "https://localhost:8080/"
        },
        "id": "EnF9l6d6E4ZO",
        "outputId": "adbe366b-c294-4fac-f528-0d331196015d"
      },
      "execution_count": 5,
      "outputs": [
        {
          "output_type": "stream",
          "name": "stdout",
          "text": [
            "0.0278\n",
            "0.0556\n",
            "0.0833\n",
            "0.1111\n",
            "0.1389\n",
            "0.1667\n",
            "0.0556\n",
            "0.0833\n",
            "0.1111\n",
            "0.1389\n",
            "0.1667\n",
            "0.1389\n",
            "0.0833\n",
            "0.1111\n",
            "0.1389\n",
            "0.1667\n",
            "0.1389\n",
            "0.1111\n",
            "0.1111\n",
            "0.1389\n",
            "0.1667\n",
            "0.1389\n",
            "0.1111\n",
            "0.0833\n",
            "0.1389\n",
            "0.1667\n",
            "0.1389\n",
            "0.1111\n",
            "0.0833\n",
            "0.0556\n",
            "0.1667\n",
            "0.1389\n",
            "0.1111\n",
            "0.0833\n",
            "0.0556\n",
            "0.0278\n"
          ]
        }
      ]
    },
    {
      "cell_type": "code",
      "source": [
        "for i in range(len(T)):\n",
        "  plt.scatter(T[i], pmf_of_T[i])\n",
        "  plt.plot([T[i], T[i]], [0, pmf_of_T[i]])\n",
        "plt.xlabel(\"PMF\")\n",
        "plt.ylabel('t')\n",
        "plt.show()"
      ],
      "metadata": {
        "colab": {
          "base_uri": "https://localhost:8080/",
          "height": 455
        },
        "id": "ooICjT1BI3sQ",
        "outputId": "954ceccd-6307-443e-8f66-f7872a6dfe80"
      },
      "execution_count": 6,
      "outputs": [
        {
          "output_type": "display_data",
          "data": {
            "text/plain": [
              "<Figure size 640x480 with 1 Axes>"
            ],
            "image/png": "[encoded data removed]"
          },
          "metadata": {}
        }
      ]
    },
    {
      "cell_type": "code",
      "source": [],
      "metadata": {
        "id": "QVEAAkkEMXsL"
      },
      "execution_count": 6,
      "outputs": []
    }
  ]
}