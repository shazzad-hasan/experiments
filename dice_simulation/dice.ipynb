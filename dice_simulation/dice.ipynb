{
  "nbformat": 4,
  "nbformat_minor": 0,
  "metadata": {
    "colab": {
      "provenance": [],
      "authorship_tag": "ABX9TyO06JAO/q+y69gqaBlM5sf7",
      "include_colab_link": true
    },
    "kernelspec": {
      "name": "python3",
      "display_name": "Python 3"
    },
    "language_info": {
      "name": "python"
    }
  },
  "cells": [
    {
      "cell_type": "markdown",
      "metadata": {
        "id": "view-in-github",
        "colab_type": "text"
      },
      "source": [
        "<a href=\"https://colab.research.google.com/github/shazzad-hasan/experiments/blob/main/dice_simulation/dice.ipynb\" target=\"_parent\"><img src=\"https://colab.research.google.com/assets/colab-badge.svg\" alt=\"Open In Colab\"/></a>"
      ]
    },
    {
      "cell_type": "code",
      "source": [
        "import numpy as np\n",
        "import matplotlib.pyplot as plt\n",
        "\n",
        "%matplotlib inline"
      ],
      "metadata": {
        "id": "DwQJYWTLKcPs"
      },
      "execution_count": 1,
      "outputs": []
    },
    {
      "cell_type": "markdown",
      "source": [
        "### Sum of Two Dice"
      ],
      "metadata": {
        "id": "Pw3zSqlqaiat"
      }
    },
    {
      "cell_type": "code",
      "source": [
        "sample_space = [(i,j) for i in range(1,7) for j in range(1,7)]\n",
        "print(*sample_space, sep=\"\\n\")"
      ],
      "metadata": {
        "colab": {
          "base_uri": "https://localhost:8080/"
        },
        "id": "i4njFxAyE4WE",
        "outputId": "390f3edb-58fb-491c-be08-cc8d41c861c5"
      },
      "execution_count": 2,
      "outputs": [
        {
          "output_type": "stream",
          "name": "stdout",
          "text": [
            "(1, 1)\n",
            "(1, 2)\n",
            "(1, 3)\n",
            "(1, 4)\n",
            "(1, 5)\n",
            "(1, 6)\n",
            "(2, 1)\n",
            "(2, 2)\n",
            "(2, 3)\n",
            "(2, 4)\n",
            "(2, 5)\n",
            "(2, 6)\n",
            "(3, 1)\n",
            "(3, 2)\n",
            "(3, 3)\n",
            "(3, 4)\n",
            "(3, 5)\n",
            "(3, 6)\n",
            "(4, 1)\n",
            "(4, 2)\n",
            "(4, 3)\n",
            "(4, 4)\n",
            "(4, 5)\n",
            "(4, 6)\n",
            "(5, 1)\n",
            "(5, 2)\n",
            "(5, 3)\n",
            "(5, 4)\n",
            "(5, 5)\n",
            "(5, 6)\n",
            "(6, 1)\n",
            "(6, 2)\n",
            "(6, 3)\n",
            "(6, 4)\n",
            "(6, 5)\n",
            "(6, 6)\n"
          ]
        }
      ]
    },
    {
      "cell_type": "code",
      "source": [
        "# sum of two die rolls\n",
        "\n",
        "T = []\n",
        "for i in range(1,7):\n",
        "  for j in range(1,7):\n",
        "    if i+j not in T:\n",
        "      T.append(i+j)\n",
        "print(T)"
      ],
      "metadata": {
        "colab": {
          "base_uri": "https://localhost:8080/"
        },
        "id": "7SG4Bye7HZAe",
        "outputId": "2e9235c5-a826-4fb6-f76a-90db6878859c"
      },
      "execution_count": 3,
      "outputs": [
        {
          "output_type": "stream",
          "name": "stdout",
          "text": [
            "[2, 3, 4, 5, 6, 7, 8, 9, 10, 11, 12]\n"
          ]
        }
      ]
    },
    {
      "cell_type": "code",
      "execution_count": 4,
      "metadata": {
        "id": "eTyl_6gGDyCI"
      },
      "outputs": [],
      "source": [
        "def pmf_sum_of_two_dice(t):\n",
        "  if t < 2 or t > 12:\n",
        "    return 0\n",
        "  elif t <= 7:\n",
        "    return (t-1)/36\n",
        "  else:\n",
        "    return (13-t)/36"
      ]
    },
    {
      "cell_type": "code",
      "source": [
        "pmf_of_T = [pmf_sum_of_two_dice(t) for t in T]\n",
        "\n",
        "for pmf in pmf_of_T:\n",
        "  print(\"%.4f\" %pmf)"
      ],
      "metadata": {
        "colab": {
          "base_uri": "https://localhost:8080/"
        },
        "id": "EnF9l6d6E4ZO",
        "outputId": "0c349275-61c5-4349-f8b4-a89a1ab7cea5"
      },
      "execution_count": 5,
      "outputs": [
        {
          "output_type": "stream",
          "name": "stdout",
          "text": [
            "0.0278\n",
            "0.0556\n",
            "0.0833\n",
            "0.1111\n",
            "0.1389\n",
            "0.1667\n",
            "0.1389\n",
            "0.1111\n",
            "0.0833\n",
            "0.0556\n",
            "0.0278\n"
          ]
        }
      ]
    },
    {
      "cell_type": "code",
      "source": [
        "for i in range(len(T)):\n",
        "  plt.scatter(T[i], pmf_of_T[i])\n",
        "  plt.plot([T[i], T[i]], [0, pmf_of_T[i]])\n",
        "plt.xlabel(\"t\")\n",
        "plt.ylabel('PMF')\n",
        "plt.show()"
      ],
      "metadata": {
        "colab": {
          "base_uri": "https://localhost:8080/",
          "height": 455
        },
        "id": "ooICjT1BI3sQ",
        "outputId": "34171e2c-3cd8-45d9-cb23-160481188252"
      },
      "execution_count": 6,
      "outputs": [
        {
          "output_type": "display_data",
          "data": {
            "text/plain": [
              "<Figure size 640x480 with 1 Axes>"
            ],
            "image/png": "[encoded data removed]"
          },
          "metadata": {}
        }
      ]
    },
    {
      "cell_type": "code",
      "source": [
        "def expectation_sum_of_two_dice():\n",
        "  expectation = 0\n",
        "  for t in T:\n",
        "    prob_t = pmf_sum_of_two_dice(t)\n",
        "    expectation += t * prob_t\n",
        "  return expectation\n",
        "\n",
        "print(\"%.2f\" %expectation_sum_of_two_dice())"
      ],
      "metadata": {
        "id": "QVEAAkkEMXsL",
        "outputId": "145a70c0-50b9-48b8-a652-47ca57d7ea6f",
        "colab": {
          "base_uri": "https://localhost:8080/"
        }
      },
      "execution_count": 7,
      "outputs": [
        {
          "output_type": "stream",
          "name": "stdout",
          "text": [
            "7.00\n"
          ]
        }
      ]
    },
    {
      "cell_type": "code",
      "source": [],
      "metadata": {
        "id": "L4lXpM8Svxiv"
      },
      "execution_count": 7,
      "outputs": []
    }
  ]
}