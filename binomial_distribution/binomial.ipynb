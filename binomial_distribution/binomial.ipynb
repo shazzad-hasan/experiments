{
  "nbformat": 4,
  "nbformat_minor": 0,
  "metadata": {
    "colab": {
      "provenance": [],
      "authorship_tag": "ABX9TyPbnLSehLHyvJObayGG1pmT",
      "include_colab_link": true
    },
    "kernelspec": {
      "name": "python3",
      "display_name": "Python 3"
    },
    "language_info": {
      "name": "python"
    }
  },
  "cells": [
    {
      "cell_type": "markdown",
      "metadata": {
        "id": "view-in-github",
        "colab_type": "text"
      },
      "source": [
        "<a href=\"https://colab.research.google.com/github/shazzad-hasan/experiments/blob/main/binomial_distribution/binomial.ipynb\" target=\"_parent\"><img src=\"https://colab.research.google.com/assets/colab-badge.svg\" alt=\"Open In Colab\"/></a>"
      ]
    },
    {
      "cell_type": "code",
      "source": [
        "import numpy as np\n",
        "from scipy import stats\n",
        "import matplotlib.pyplot as plt\n",
        "\n",
        "%matplotlib inline"
      ],
      "metadata": {
        "id": "8zpL2l-OMUkd"
      },
      "execution_count": null,
      "outputs": []
    },
    {
      "cell_type": "markdown",
      "source": [
        "### PMF"
      ],
      "metadata": {
        "id": "CKPa-06iJ__9"
      }
    },
    {
      "cell_type": "code",
      "execution_count": null,
      "metadata": {
        "id": "C0naLabMIS2V"
      },
      "outputs": [],
      "source": [
        "# X ~ Bin(n=10, p=0.6)\n",
        "# we want to find P(X=4)\n",
        "\n",
        "# define variables for x, n, p\n",
        "n = 10\n",
        "p = 0.6\n",
        "x = 4\n",
        "# compute pmf\n",
        "p_x = stats.binom.pmf(x, n, p)\n",
        "\n",
        "print(f\"P(X = {x}) = {p_x}\")"
      ]
    },
    {
      "cell_type": "markdown",
      "source": [
        "### Generate random sample from a binomial"
      ],
      "metadata": {
        "id": "IvVCuk_hKECb"
      }
    },
    {
      "cell_type": "code",
      "source": [
        "# x ~ Bin(n=10, p=0.4)\n",
        "n = 10\n",
        "p = 0.4\n",
        "x = 3\n",
        "\n",
        "# draw 100 samples from X ~ Bin(10, 0.4)\n",
        "samples = stats.binom.rvs(n, p, size=100)\n",
        "print(samples)"
      ],
      "metadata": {
        "id": "IigJLdCwIgY1"
      },
      "execution_count": null,
      "outputs": []
    },
    {
      "cell_type": "markdown",
      "source": [
        "### Coin flips Simulation"
      ],
      "metadata": {
        "id": "rBQ5LQtdMsH8"
      }
    },
    {
      "cell_type": "code",
      "source": [
        "# probability of heads\n",
        "x = 0.2\n",
        "# random number in [0, 1]\n",
        "x = np.random.rand()\n",
        "# sample space\n",
        "s = [\"H\", \"T\"]\n",
        "# number of coin flip\n",
        "N = 100\n",
        "\n",
        "# generate a single toss event\n",
        "def flip_outcome(s):\n",
        "  if x <= p:\n",
        "    return s[0]\n",
        "  else:\n",
        "    return s[1]\n",
        "\n",
        "random_outcomes = [flip_outcome(s) for i in range(N)]\n",
        "print(random_outcomes)"
      ],
      "metadata": {
        "id": "poKUNfm8KtS3"
      },
      "execution_count": null,
      "outputs": []
    },
    {
      "cell_type": "code",
      "source": [
        "n_trial = 1000\n",
        "n_heads = 0\n",
        "n_tails = 0\n",
        "\n",
        "for i in range(N):\n",
        "  x = np.random.rand()\n",
        "  if x <= p:\n",
        "    n_heads += 1\n",
        "  else:\n",
        "    n_tails += 1\n",
        "\n",
        "print(n_heads/n_trial)\n",
        "print(n_tails/n_trial)"
      ],
      "metadata": {
        "id": "KbWVwKvONcZ8"
      },
      "execution_count": null,
      "outputs": []
    },
    {
      "cell_type": "code",
      "source": [
        "def sample_binomial(n, p):\n",
        "  n_heads = 0\n",
        "  for i in range(n):\n",
        "    x = np.random.rand()\n",
        "    if x <= p:\n",
        "      n_heads += 1\n",
        "  return n_heads"
      ],
      "metadata": {
        "id": "jI6IQGdCVPgR"
      },
      "execution_count": null,
      "outputs": []
    },
    {
      "cell_type": "code",
      "source": [
        "n_trial = 1000\n",
        "\n",
        "# number of tosses in each experiment\n",
        "n = 10\n",
        "p = 0.2\n",
        "\n",
        "n_heads_arr = np.zeros(n_trial)\n",
        "for i in range(n_trial):\n",
        "  n_heads = sample_binomial(n, p)\n",
        "  n_heads_arr[i] = n_heads\n",
        "\n",
        "plt.hist(n_heads_arr, bins=20)"
      ],
      "metadata": {
        "id": "_KyxSCcOVPjx"
      },
      "execution_count": null,
      "outputs": []
    },
    {
      "cell_type": "code",
      "source": [
        "for i in range(n+1):\n",
        "  # number of trials with 'i' heads\n",
        "  n_i = np.sum(n_heads_arr == i)\n",
        "  plt.scatter(i, n_i, color='k')\n",
        "  # add vertical lines from better look\n",
        "  plt.plot([i,i], [0,n_i], color='k')\n",
        "plt.xlabel(\"Number of heads\")\n",
        "plt.ylabel(f\"Number of trials (out of {n_trial})\")\n",
        "plt.show()"
      ],
      "metadata": {
        "id": "GJIj6BA0Sd2K"
      },
      "execution_count": null,
      "outputs": []
    },
    {
      "cell_type": "code",
      "source": [
        "for i in range(n+1):\n",
        "  # number of trials with 'i' heads\n",
        "  n_i = np.sum(n_heads_arr == i)\n",
        "  plt.scatter(i, n_i/n_trial, color='k')\n",
        "  # add vertical lines from better look\n",
        "  plt.plot([i,i], [0,n_i/n_trial], color='k')\n",
        "plt.xlabel(\"Number of heads\")\n",
        "plt.ylabel(\"Probability\")\n",
        "plt.show()"
      ],
      "metadata": {
        "id": "gVve4BgnK7TH"
      },
      "execution_count": null,
      "outputs": []
    }
  ]
}