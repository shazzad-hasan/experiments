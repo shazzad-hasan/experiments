{
  "nbformat": 4,
  "nbformat_minor": 0,
  "metadata": {
    "colab": {
      "provenance": [],
      "authorship_tag": "ABX9TyNZgqrOGqHG9VUN0IP5dOyb",
      "include_colab_link": true
    },
    "kernelspec": {
      "name": "python3",
      "display_name": "Python 3"
    },
    "language_info": {
      "name": "python"
    }
  },
  "cells": [
    {
      "cell_type": "markdown",
      "metadata": {
        "id": "view-in-github",
        "colab_type": "text"
      },
      "source": [
        "<a href=\"https://colab.research.google.com/github/shazzad-hasan/experiments/blob/main/binomial_distribution/binomial.ipynb\" target=\"_parent\"><img src=\"https://colab.research.google.com/assets/colab-badge.svg\" alt=\"Open In Colab\"/></a>"
      ]
    },
    {
      "cell_type": "code",
      "source": [
        "import numpy as np\n",
        "from scipy import stats\n",
        "import matplotlib.pyplot as plt\n",
        "\n",
        "%matplotlib inline"
      ],
      "metadata": {
        "id": "8zpL2l-OMUkd"
      },
      "execution_count": 1,
      "outputs": []
    },
    {
      "cell_type": "markdown",
      "source": [
        "### PMF"
      ],
      "metadata": {
        "id": "CKPa-06iJ__9"
      }
    },
    {
      "cell_type": "code",
      "execution_count": 2,
      "metadata": {
        "id": "C0naLabMIS2V",
        "outputId": "18873c43-8699-4374-cb9a-0ace48bd0139",
        "colab": {
          "base_uri": "https://localhost:8080/"
        }
      },
      "outputs": [
        {
          "output_type": "stream",
          "name": "stdout",
          "text": [
            "P(X = 4) = 0.11147673600000009\n"
          ]
        }
      ],
      "source": [
        "# X ~ Bin(n=10, p=0.6)\n",
        "# we want to find P(X=4)\n",
        "\n",
        "# define variables for x, n, p\n",
        "n = 10\n",
        "p = 0.6\n",
        "x = 4\n",
        "# compute pmf\n",
        "p_x = stats.binom.pmf(x, n, p)\n",
        "\n",
        "print(f\"P(X = {x}) = {p_x}\")"
      ]
    },
    {
      "cell_type": "markdown",
      "source": [
        "### Generate random sample from a binomial"
      ],
      "metadata": {
        "id": "IvVCuk_hKECb"
      }
    },
    {
      "cell_type": "code",
      "source": [
        "# x ~ Bin(n=10, p=0.4)\n",
        "n = 10\n",
        "p = 0.4\n",
        "x = 3\n",
        "\n",
        "# draw 100 samples from X ~ Bin(10, 0.4)\n",
        "samples = stats.binom.rvs(n, p, size=100)\n",
        "print(samples)"
      ],
      "metadata": {
        "id": "IigJLdCwIgY1",
        "outputId": "cb443621-ac04-4521-da5c-3ae328a3f33d",
        "colab": {
          "base_uri": "https://localhost:8080/"
        }
      },
      "execution_count": 3,
      "outputs": [
        {
          "output_type": "stream",
          "name": "stdout",
          "text": [
            "[5 3 4 4 4 5 4 3 4 1 2 5 4 4 5 4 7 1 4 5 5 5 6 4 3 3 3 5 4 5 2 6 2 5 4 2 3\n",
            " 6 5 5 4 4 4 2 4 4 3 3 3 2 3 8 3 2 3 7 2 5 3 2 5 5 3 4 5 4 6 5 5 1 6 3 7 3\n",
            " 6 5 6 5 3 4 5 2 4 5 4 6 5 5 4 6 4 4 4 3 3 5 4 6 3 5]\n"
          ]
        }
      ]
    },
    {
      "cell_type": "markdown",
      "source": [
        "### Coin flips Simulation\n",
        "We will simulate coin flips where P(H) is not nacessarily 1/2 and use np.random.rand() for sumulating random H outcomes.\n",
        "We will accept the toss as H random number is less than or equal to p."
      ],
      "metadata": {
        "id": "rBQ5LQtdMsH8"
      }
    },
    {
      "cell_type": "code",
      "source": [
        "# probability of heads\n",
        "p = 0.1\n",
        "# number of trail\n",
        "n_trial = 20\n",
        "\n",
        "# generate a single toss event\n",
        "def flip_outcome():\n",
        "  # random number in [0, 1]\n",
        "  x = np.random.rand()\n",
        "  if x <= p:\n",
        "    return \"H\"\n",
        "  else:\n",
        "    return \"T\"\n",
        "\n",
        "# outcome is T most of the time since our choice of p value is small\n",
        "random_outcomes = [flip_outcome() for i in range(n_trial)]\n",
        "print(random_outcomes)"
      ],
      "metadata": {
        "id": "poKUNfm8KtS3",
        "outputId": "64f398a6-7b62-442b-c8e9-2fe36f6ec0ba",
        "colab": {
          "base_uri": "https://localhost:8080/"
        }
      },
      "execution_count": 4,
      "outputs": [
        {
          "output_type": "stream",
          "name": "stdout",
          "text": [
            "['T', 'T', 'T', 'T', 'T', 'T', 'T', 'H', 'T', 'T', 'T', 'T', 'T', 'T', 'T', 'T', 'H', 'T', 'H', 'T']\n"
          ]
        }
      ]
    },
    {
      "cell_type": "code",
      "source": [
        "# let's see how many times the outcome is H\n",
        "n_trial = 1000\n",
        "n_heads = 0\n",
        "n_tails = 0\n",
        "\n",
        "for i in range(n_trial):\n",
        "  x = np.random.rand()\n",
        "  if x <= p:\n",
        "    n_heads += 1\n",
        "  else:\n",
        "    n_tails += 1\n",
        "\n",
        "print(f\"Out of {n_trial} coin flips, {n_heads} landed 'H'\")\n",
        "\n",
        "print(\"Prescribed p = {p}\")\n",
        "print(f\"Estimated p = {n_heads/n_trial}\")"
      ],
      "metadata": {
        "id": "KbWVwKvONcZ8",
        "outputId": "a7ce874a-1978-42e2-dc74-871b58a05505",
        "colab": {
          "base_uri": "https://localhost:8080/"
        }
      },
      "execution_count": 5,
      "outputs": [
        {
          "output_type": "stream",
          "name": "stdout",
          "text": [
            "Out of 1000 coin flips, 103 landed 'H'\n",
            "Prescribed p = {p}\n",
            "Estimated p = 0.103\n"
          ]
        }
      ]
    },
    {
      "cell_type": "markdown",
      "source": [
        "### Sampling from a Binomial Distribution"
      ],
      "metadata": {
        "id": "liIF6VzMpHPG"
      }
    },
    {
      "cell_type": "code",
      "source": [
        "def sample_binomial(n, p):\n",
        "  n_heads = 0\n",
        "  for i in range(n):\n",
        "    x = np.random.rand()\n",
        "    if x <= p:\n",
        "      n_heads += 1\n",
        "  return n_heads"
      ],
      "metadata": {
        "id": "jI6IQGdCVPgR"
      },
      "execution_count": 6,
      "outputs": []
    },
    {
      "cell_type": "code",
      "source": [
        "n_trial = 1000\n",
        "\n",
        "# number of tosses in each experiment\n",
        "n = 10\n",
        "p = 0.1\n",
        "\n",
        "n_heads_arr = np.zeros(n_trial)\n",
        "for i in range(n_trial):\n",
        "  n_heads = sample_binomial(n, p)\n",
        "  n_heads_arr[i] = n_heads\n",
        "\n",
        "plt.hist(n_heads_arr, bins=20)"
      ],
      "metadata": {
        "id": "_KyxSCcOVPjx",
        "outputId": "d858bd72-4a46-49fb-d3bf-3186cb7d782f",
        "colab": {
          "base_uri": "https://localhost:8080/",
          "height": 519
        }
      },
      "execution_count": 7,
      "outputs": [
        {
          "output_type": "execute_result",
          "data": {
            "text/plain": [
              "(array([345.,   0.,   0.,   0., 384.,   0.,   0.,   0., 189.,   0.,   0.,\n",
              "          0.,  69.,   0.,   0.,   0.,  12.,   0.,   0.,   1.]),\n",
              " array([0.  , 0.25, 0.5 , 0.75, 1.  , 1.25, 1.5 , 1.75, 2.  , 2.25, 2.5 ,\n",
              "        2.75, 3.  , 3.25, 3.5 , 3.75, 4.  , 4.25, 4.5 , 4.75, 5.  ]),\n",
              " <BarContainer object of 20 artists>)"
            ]
          },
          "metadata": {},
          "execution_count": 7
        },
        {
          "output_type": "display_data",
          "data": {
            "text/plain": [
              "<Figure size 640x480 with 1 Axes>"
            ],
            "image/png": "[encoded data removed]"
          },
          "metadata": {}
        }
      ]
    },
    {
      "cell_type": "code",
      "source": [
        "for i in range(n+1):\n",
        "  # number of trials with 'i' heads\n",
        "  n_i = np.sum(n_heads_arr == i)\n",
        "  plt.scatter(i, n_i)\n",
        "  # add vertical lines\n",
        "  plt.plot([i,i], [0,n_i])\n",
        "plt.xlabel(\"Number of heads\")\n",
        "plt.ylabel(f\"Number of trials\")\n",
        "plt.show()"
      ],
      "metadata": {
        "id": "GJIj6BA0Sd2K",
        "outputId": "94a2f94f-517c-4880-f291-9120a9172aba",
        "colab": {
          "base_uri": "https://localhost:8080/",
          "height": 452
        }
      },
      "execution_count": 8,
      "outputs": [
        {
          "output_type": "display_data",
          "data": {
            "text/plain": [
              "<Figure size 640x480 with 1 Axes>"
            ],
            "image/png": "[encoded data removed]"
          },
          "metadata": {}
        }
      ]
    },
    {
      "cell_type": "code",
      "source": [
        "for i in range(n+1):\n",
        "  # number of trials with 'i' heads\n",
        "  n_i = np.sum(n_heads_arr == i)\n",
        "  plt.scatter(i, n_i/n_trial)\n",
        "  # add vertical lines\n",
        "  plt.plot([i,i], [0,n_i/n_trial])\n",
        "plt.xlabel(\"Number of heads\")\n",
        "plt.ylabel(\"Probability\")\n",
        "plt.show()"
      ],
      "metadata": {
        "id": "gVve4BgnK7TH",
        "outputId": "0957024e-e131-48e1-c263-e1c32f426ab2",
        "colab": {
          "base_uri": "https://localhost:8080/",
          "height": 452
        }
      },
      "execution_count": 9,
      "outputs": [
        {
          "output_type": "display_data",
          "data": {
            "text/plain": [
              "<Figure size 640x480 with 1 Axes>"
            ],
            "image/png": "[encoded data removed]"
          },
          "metadata": {}
        }
      ]
    },
    {
      "cell_type": "code",
      "source": [],
      "metadata": {
        "id": "586t3pMiwZAv"
      },
      "execution_count": 9,
      "outputs": []
    }
  ]
}